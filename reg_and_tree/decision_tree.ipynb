{
 "cells": [
  {
   "cell_type": "markdown",
   "metadata": {
    "collapsed": true,
    "pycharm": {
     "name": "#%% md\n"
    }
   },
   "source": [
    "# Decision Tree\n",
    "\n",
    "#### imports and misc"
   ]
  },
  {
   "cell_type": "code",
   "execution_count": null,
   "outputs": [],
   "source": [
    "import seaborn as sns\n",
    "import matplotlib.pyplot as plt\n",
    "import pandas as pd\n",
    "import numpy as np\n",
    "from sklearn.tree import DecisionTreeRegressor\n",
    "from dataset import x_train, x_test, y_train, y_test\n",
    "from sklearn.metrics import mean_absolute_error"
   ],
   "metadata": {
    "collapsed": false,
    "pycharm": {
     "name": "#%%\n"
    }
   }
  },
  {
   "cell_type": "code",
   "execution_count": null,
   "outputs": [],
   "source": [
    "def set_color(_fig, _ax):\n",
    "    _fig.patch.set_facecolor('#1b212c')\n",
    "    _ax.patch.set_facecolor('#1b212c')\n",
    "    _ax.spines['bottom'].set_color('white')\n",
    "    _ax.spines['top'].set_color('white')\n",
    "    _ax.spines['left'].set_color('white')\n",
    "    _ax.spines['right'].set_color('white')\n",
    "    _ax.xaxis.label.set_color('white')\n",
    "    _ax.yaxis.label.set_color('white')\n",
    "    _ax.grid(alpha=0.1)\n",
    "    _ax.title.set_color('white')\n",
    "    _ax.tick_params(axis='x', colors='white')\n",
    "    _ax.tick_params(axis='y', colors='white')"
   ],
   "metadata": {
    "collapsed": false,
    "pycharm": {
     "name": "#%%\n"
    }
   }
  },
  {
   "cell_type": "markdown",
   "source": [
    "#### show the depth performances"
   ],
   "metadata": {
    "collapsed": false,
    "pycharm": {
     "name": "#%% md\n"
    }
   }
  },
  {
   "cell_type": "code",
   "execution_count": null,
   "outputs": [],
   "source": [
    "results = {}\n",
    "for i in range(25):\n",
    "    regr = DecisionTreeRegressor(max_depth=i+1)\n",
    "    regr.fit(x_train, y_train)\n",
    "    y_pred = regr.predict(x_test)\n",
    "    results[i] = mean_absolute_error(y_test, y_pred)\n",
    "fig, ax1 = plt.subplots(ncols=1, figsize=(10, 7), dpi=300)\n",
    "\n",
    "sns.lineplot(x=list(results.keys()), y=list(results.values()), ax=ax1)\n",
    "plt.xlabel('Max Depth')\n",
    "plt.ylabel('Mean Absolute Error')\n",
    "\n",
    "set_color(fig, ax1)\n",
    "plt.savefig('../images/decision_tree/max_depth.png', dpi=300)\n",
    "plt.show()\n"
   ],
   "metadata": {
    "collapsed": false,
    "pycharm": {
     "name": "#%%\n"
    }
   }
  },
  {
   "cell_type": "markdown",
   "source": [
    "#### show MAE and the differences between y_test and y_pred"
   ],
   "metadata": {
    "collapsed": false,
    "pycharm": {
     "name": "#%% md\n"
    }
   }
  },
  {
   "cell_type": "code",
   "execution_count": null,
   "outputs": [],
   "source": [
    "regr = DecisionTreeRegressor(max_depth=25)\n",
    "regr.fit(x_train, y_train)\n",
    "y_pred = regr.predict(x_test)\n",
    "\n",
    "print(\"Mean Absolute Error:\", mean_absolute_error(y_test, y_pred))\n",
    "\n",
    "df = pd.DataFrame()\n",
    "df['actual'] = y_test\n",
    "df['predicted'] = y_pred\n",
    "df['diff'] = abs(y_test - y_pred)\n",
    "df2 = df[df[\"diff\"] < 30000]\n",
    "\n",
    "sns.set_theme(style=\"ticks\", palette=\"pastel\")\n",
    "fig, ax = plt.subplots(figsize=(10, 6), dpi=300)\n",
    "sns.distplot(df2[\"diff\"], color=\"#81acc3\", hist_kws=dict(alpha=0.4), fit_kws=dict(alpha=1), ax=ax)\n",
    "\n",
    "plt.axvline(np.mean(df[\"diff\"]), color='r', linestyle='--', label='Median')\n",
    "\n",
    "sns.despine(offset=10, trim=True)\n",
    "set_color(fig, ax)\n",
    "plt.xlabel('Price deviation')\n",
    "plt.xlim(0, None)\n",
    "plt.savefig('../images/decision_tree/tree_error_dist.png', dpi=300)\n",
    "plt.show()"
   ],
   "metadata": {
    "collapsed": false,
    "pycharm": {
     "name": "#%%\n"
    }
   }
  }
 ],
 "metadata": {
  "kernelspec": {
   "display_name": "Python 3",
   "language": "python",
   "name": "python3"
  },
  "language_info": {
   "codemirror_mode": {
    "name": "ipython",
    "version": 2
   },
   "file_extension": ".py",
   "mimetype": "text/x-python",
   "name": "python",
   "nbconvert_exporter": "python",
   "pygments_lexer": "ipython2",
   "version": "2.7.6"
  }
 },
 "nbformat": 4,
 "nbformat_minor": 0
}