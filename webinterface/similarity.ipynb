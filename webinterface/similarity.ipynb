{
 "cells": [
  {
   "cell_type": "code",
   "execution_count": 124,
   "metadata": {
    "collapsed": true
   },
   "outputs": [],
   "source": [
    "import pandas as pd\n",
    "\n",
    "cars = pd.read_csv('cars_clean.csv')"
   ]
  },
  {
   "cell_type": "code",
   "execution_count": 125,
   "outputs": [],
   "source": [
    "test_car = {\n",
    "    \"manufacturer\": \"audi\", #\n",
    "    \"model\": \"a3\", #\n",
    "    \"airbag\": \"front-, seiten-airbags\", #\n",
    "    \"climate_control\": \"klimaanlage\", #\n",
    "    \"first_registration\": 2017.0, # ranking\n",
    "    \"fuel\": \"benzin\", #\n",
    "    \"color\": \"silber\", #----------\n",
    "    \"condition\": \"beschädigt, unfallfahrzeug, nicht fahrtauglich\", #--------------\n",
    "    \"gear\": \"automatik\",  #\n",
    "    \"hu\": \"2022.0\", # ---------\n",
    "    \"interior\":\"andere\", #----------\n",
    "    \"mileage\":128000.0, # --------------\n",
    "    \"num_of_owners\":1.0, # ------------\n",
    "    \"num_seats\":5.0, #\n",
    "    \"power\":150.0, # ranking\n",
    "    \"cabrio\":0.0, # ---------\n",
    "    \"kleinwagen\":1.0, # --------\n",
    "    \"kombi\":0.0, # -------\n",
    "    \"limousine\":0.0, # -----\n",
    "    \"sportwagen\":0.0, # -----\n",
    "    \"gelaendewagen\":0.0, # -----\n",
    "    \"van\":0.0, # -----\n",
    "    \"co2\":114.0, # ranking\n",
    "    \"consumption\":5, # ranking\n",
    "    \"cubicCapacity\":1395.0, # ranking\n",
    "    \"doors\":4.0, #\n",
    "    \"emission_class\":6.0, #\n",
    "    \"environment_class\":4.0 #\n",
    "}"
   ],
   "metadata": {
    "collapsed": false,
    "pycharm": {
     "name": "#%%\n"
    }
   }
  },
  {
   "cell_type": "code",
   "execution_count": 126,
   "outputs": [],
   "source": [
    "for key in [\"first_registration\", \"power\", \"cubicCapacity\", \"consumption\", \"co2\"]:\n",
    "    min_ = cars[key].quantile(0.01)\n",
    "    max_ = cars[key].quantile(0.99)\n",
    "    cars[key+\"_norm\"] = (cars[key] - min_) / (max_ - min_)\n",
    "    test_car[key+\"_norm\"] = (test_car[key] - min_) / (max_ - min_)"
   ],
   "metadata": {
    "collapsed": false,
    "pycharm": {
     "name": "#%%\n"
    }
   }
  },
  {
   "cell_type": "code",
   "execution_count": 127,
   "outputs": [
    {
     "data": {
      "text/plain": "(1543, 35)"
     },
     "execution_count": 127,
     "metadata": {},
     "output_type": "execute_result"
    }
   ],
   "source": [
    "cars_filtered = cars[cars['title'].str.contains(test_car['model'].lower())]\n",
    "for col in [\"manufacturer\", \"fuel\", \"climate_control\", \"gear\", \"airbag\", \"environment_class\", \"emission_class\", \"doors\", \"num_seats\"]:\n",
    "    cars_filtered = cars_filtered[cars_filtered[col] == test_car[col]]\n",
    "    break\n",
    "cars_filtered.shape"
   ],
   "metadata": {
    "collapsed": false,
    "pycharm": {
     "name": "#%%\n"
    }
   }
  },
  {
   "cell_type": "code",
   "execution_count": 128,
   "outputs": [],
   "source": [
    "from sklearn.metrics.pairwise import pairwise_distances\n",
    "\n",
    "# calculate pairwise distances of the co2 and consumption columns to the test car\n",
    "cars_filtered[\"distance\"] = pairwise_distances(cars_filtered[[\"co2_norm\", \"consumption_norm\",\"first_registration_norm\", \"power_norm\", \"cubicCapacity_norm\"]],\n",
    "                                               [[test_car[\"co2_norm\"], test_car[\"consumption_norm\"], test_car[\"first_registration_norm\"], test_car[\"power_norm\"], test_car[\"cubicCapacity_norm\"]]],\n",
    "                                               metric=\"euclidean\")"
   ],
   "metadata": {
    "collapsed": false,
    "pycharm": {
     "name": "#%%\n"
    }
   }
  },
  {
   "cell_type": "code",
   "execution_count": 129,
   "outputs": [
    {
     "data": {
      "text/plain": "        distance    co2  consumption  first_registration  power  cubicCapacity\n156526  0.011947  116.0     5.133333                2017  150.0         1395.0\n40383   0.011947  116.0     5.133333                2017  150.0         1395.0\n156550  0.011947  116.0     5.133333                2017  150.0         1395.0\n42672   0.014383  110.0     4.933333                2017  150.0         1395.0\n182387  0.016724  110.0     4.866667                2017  150.0         1395.0\n159018  0.020831  112.0     4.733333                2017  150.0         1395.0\n151009  0.020831  112.0     4.733333                2017  150.0         1395.0\n143384  0.020831  112.0     4.733333                2017  150.0         1395.0\n3140    0.020831  116.0     5.266667                2017  150.0         1395.0\n182066  0.020905  119.0     5.166667                2017  150.0         1395.0",
      "text/html": "<div>\n<style scoped>\n    .dataframe tbody tr th:only-of-type {\n        vertical-align: middle;\n    }\n\n    .dataframe tbody tr th {\n        vertical-align: top;\n    }\n\n    .dataframe thead th {\n        text-align: right;\n    }\n</style>\n<table border=\"1\" class=\"dataframe\">\n  <thead>\n    <tr style=\"text-align: right;\">\n      <th></th>\n      <th>distance</th>\n      <th>co2</th>\n      <th>consumption</th>\n      <th>first_registration</th>\n      <th>power</th>\n      <th>cubicCapacity</th>\n    </tr>\n  </thead>\n  <tbody>\n    <tr>\n      <th>156526</th>\n      <td>0.011947</td>\n      <td>116.0</td>\n      <td>5.133333</td>\n      <td>2017</td>\n      <td>150.0</td>\n      <td>1395.0</td>\n    </tr>\n    <tr>\n      <th>40383</th>\n      <td>0.011947</td>\n      <td>116.0</td>\n      <td>5.133333</td>\n      <td>2017</td>\n      <td>150.0</td>\n      <td>1395.0</td>\n    </tr>\n    <tr>\n      <th>156550</th>\n      <td>0.011947</td>\n      <td>116.0</td>\n      <td>5.133333</td>\n      <td>2017</td>\n      <td>150.0</td>\n      <td>1395.0</td>\n    </tr>\n    <tr>\n      <th>42672</th>\n      <td>0.014383</td>\n      <td>110.0</td>\n      <td>4.933333</td>\n      <td>2017</td>\n      <td>150.0</td>\n      <td>1395.0</td>\n    </tr>\n    <tr>\n      <th>182387</th>\n      <td>0.016724</td>\n      <td>110.0</td>\n      <td>4.866667</td>\n      <td>2017</td>\n      <td>150.0</td>\n      <td>1395.0</td>\n    </tr>\n    <tr>\n      <th>159018</th>\n      <td>0.020831</td>\n      <td>112.0</td>\n      <td>4.733333</td>\n      <td>2017</td>\n      <td>150.0</td>\n      <td>1395.0</td>\n    </tr>\n    <tr>\n      <th>151009</th>\n      <td>0.020831</td>\n      <td>112.0</td>\n      <td>4.733333</td>\n      <td>2017</td>\n      <td>150.0</td>\n      <td>1395.0</td>\n    </tr>\n    <tr>\n      <th>143384</th>\n      <td>0.020831</td>\n      <td>112.0</td>\n      <td>4.733333</td>\n      <td>2017</td>\n      <td>150.0</td>\n      <td>1395.0</td>\n    </tr>\n    <tr>\n      <th>3140</th>\n      <td>0.020831</td>\n      <td>116.0</td>\n      <td>5.266667</td>\n      <td>2017</td>\n      <td>150.0</td>\n      <td>1395.0</td>\n    </tr>\n    <tr>\n      <th>182066</th>\n      <td>0.020905</td>\n      <td>119.0</td>\n      <td>5.166667</td>\n      <td>2017</td>\n      <td>150.0</td>\n      <td>1395.0</td>\n    </tr>\n  </tbody>\n</table>\n</div>"
     },
     "execution_count": 129,
     "metadata": {},
     "output_type": "execute_result"
    }
   ],
   "source": [
    "# print the columns distance and co2 and consumption and sort by distance descending\n",
    "cars_filtered[[\"distance\", \"co2\", \"consumption\", \"first_registration\", \"power\", \"cubicCapacity\"]].sort_values(by=\"distance\", ascending=True).head(10)"
   ],
   "metadata": {
    "collapsed": false,
    "pycharm": {
     "name": "#%%\n"
    }
   }
  },
  {
   "cell_type": "code",
   "execution_count": 143,
   "outputs": [
    {
     "data": {
      "text/plain": "True"
     },
     "execution_count": 143,
     "metadata": {},
     "output_type": "execute_result"
    }
   ],
   "source": [
    "import webbrowser\n",
    "\n",
    "webbrowser.open(cars.iloc[3140][\"url\"])\n",
    "\n"
   ],
   "metadata": {
    "collapsed": false,
    "pycharm": {
     "name": "#%%\n"
    }
   }
  },
  {
   "cell_type": "code",
   "execution_count": 145,
   "outputs": [
    {
     "name": "stdout",
     "output_type": "stream",
     "text": [
      "offline: https://img.classistatic.de/api/v1/mo-prod/images/31/31782b15-ddcb-4cd4-98db-9380bb3f38e7?rule=mo-360.jpg\n",
      "no img: https://upload.wikimedia.org/wikipedia/commons/b/b9/Nocar.svg\n",
      "online: https://img.classistatic.de/api/v1/mo-prod/images/4c/4c1154d2-cf29-42d5-9c80-e3b7e424eb3b?rule=mo-1024.jpg\n"
     ]
    }
   ],
   "source": [
    "# ----------------------------------------------------------------------------------------------------------------------\n",
    "\n",
    "import requests\n",
    "\n",
    "urls = {\n",
    "    \"offline\": \"https://suchen.mobile.de/fahrzeuge/details.html?id=341475570&cn=DE&cn=DE&cn=DE&gn=K%C3%B6ln\"\n",
    "               \"&isSearchRequest=true&ll=50.94%2C6.96&makeModelVariant1.makeId=1900&makeModelVariant1.modelId=8\"\n",
    "               \"&pageNumber=1&rd=21&scopeId=C&sortOption.sortBy=creationTime&sortOption.sortOrder=DESCENDING&usage\"\n",
    "               \"=USED&action=topInCategory&searchId=b26ebd9b-1733-782f-9c45-6ef27025bdb7\",\n",
    "    \"no img\": \"https://suchen.mobile.de/fahrzeuge/details.html?id=341908370&cn=DE&cn=DE&cn=DE&gn=Kiel&isSearchRequest\"\n",
    "              \"=true&ll=54.32%2C10.14&makeModelVariant1.makeId=1900&makeModelVariant1.modelId=8&pageNumber=1&rd=21\"\n",
    "              \"&scopeId=C&sortOption.sortBy=creationTime&sortOption.sortOrder=DESCENDING&searchId=75d47ec9-e13e-593e\"\n",
    "              \"-25ea-675331d42099\",\n",
    "    \"online\": \"https://suchen.mobile.de/fahrzeuge/details.html?id=341934995&cn=DE&cn=DE&cn=DE&gn=Duisburg\"\n",
    "              \"&isSearchRequest=true&ll=51.43%2C6.76&makeModelVariant1.makeId=1900&makeModelVariant1.modelId=8\"\n",
    "              \"&pageNumber=1&rd=22&scopeId=C&sortOption.sortBy=creationTime&sortOption.sortOrder=DESCENDING&fnai=next\"\n",
    "              \"&searchId=22fc764e-2efe-b294-80b0-9af354046bb0 \"\n",
    "}\n",
    "\n",
    "\n",
    "def get_img(url):\n",
    "    html = requests.get(url, headers={b'Accept': b'text/html,application/xhtml+xml,application/xml;q=0.9,/;q=0.8',\n",
    "                                      b'Accept-Language': b'en',\n",
    "                                      b'User-Agent': b'Scrapy/2.6.1 (+https://scrapy.org/)',\n",
    "                                      b'Accept-Encoding': b'gzip, deflate'}).text\n",
    "    # print(html)\n",
    "\n",
    "    if html.find(\"cycle-slide\") != -1:\n",
    "        img_url = html.split(\"cycle-slide\")[1].split(\"src=\\\"\")[1].split(\"\\\"\")[0]\n",
    "    elif html.find(\"vip-error__details__image\") != -1:\n",
    "        img_url = html.split(\"vip-error__details__image\")[1].split(\"src=\\\"\")[1].split(\"\\\"\")[0]\n",
    "        img_url_html = requests.get(img_url).text\n",
    "        if img_url_html.find('\"code\":404') != -1:\n",
    "            img_url = \"https://upload.wikimedia.org/wikipedia/commons/b/b9/Nocar.svg\"\n",
    "    else:\n",
    "        img_url = \"https://upload.wikimedia.org/wikipedia/commons/b/b9/Nocar.svg\"\n",
    "\n",
    "    return img_url\n",
    "\n",
    "\n",
    "for key in urls.keys():\n",
    "    print(key, get_img(urls[key]), sep=\": \")\n",
    "\n"
   ],
   "metadata": {
    "collapsed": false,
    "pycharm": {
     "name": "#%%\n"
    }
   }
  }
 ],
 "metadata": {
  "kernelspec": {
   "display_name": "Python 3",
   "language": "python",
   "name": "python3"
  },
  "language_info": {
   "codemirror_mode": {
    "name": "ipython",
    "version": 2
   },
   "file_extension": ".py",
   "mimetype": "text/x-python",
   "name": "python",
   "nbconvert_exporter": "python",
   "pygments_lexer": "ipython2",
   "version": "2.7.6"
  }
 },
 "nbformat": 4,
 "nbformat_minor": 0
}